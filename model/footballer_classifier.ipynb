{
 "cells": [
  {
   "cell_type": "code",
   "execution_count": 14,
   "metadata": {},
   "outputs": [],
   "source": [
    "import numpy as np\n",
    "import cv2\n",
    "from matplotlib import pyplot as plt\n",
    "%matplotlib inline"
   ]
  },
  {
   "cell_type": "code",
   "execution_count": 15,
   "metadata": {},
   "outputs": [],
   "source": [
    "# img=cv2.imread('./dataset/lionel_messi/messiface1.jpg')\n",
    "# img.shape"
   ]
  },
  {
   "cell_type": "code",
   "execution_count": 16,
   "metadata": {},
   "outputs": [],
   "source": [
    "# plt.imshow(img)"
   ]
  },
  {
   "cell_type": "code",
   "execution_count": 17,
   "metadata": {},
   "outputs": [],
   "source": [
    "# gray=cv2.cvtColor(img,cv2.COLOR_BGR2GRAY)\n",
    "# gray.shape\n",
    "# plt.imshow(gray,cmap='gray')"
   ]
  },
  {
   "cell_type": "code",
   "execution_count": 18,
   "metadata": {},
   "outputs": [],
   "source": [
    "face_cascade= cv2.CascadeClassifier(\"./opencv/haarcascades/haarcascade_frontalface_default.xml\")\n",
    "eye_cascade= cv2.CascadeClassifier(\"./opencv/haarcascades/haarcascade_eye.xml\")\n",
    "# faces= face_cascade.detectMultiScale(gray,1.3,5)\n",
    "# # faces"
   ]
  },
  {
   "cell_type": "code",
   "execution_count": 19,
   "metadata": {},
   "outputs": [],
   "source": [
    "# (x,y,w,h)=faces[0]\n",
    "# x,y,w,h\n",
    "# print(len(faces[0]))"
   ]
  },
  {
   "cell_type": "code",
   "execution_count": 20,
   "metadata": {},
   "outputs": [],
   "source": [
    "# face_img=cv2.rectangle(img,(x,y),(x+w,y+h),(255,0,0),2)\n",
    "# plt.imshow(face_img)"
   ]
  },
  {
   "cell_type": "code",
   "execution_count": 21,
   "metadata": {},
   "outputs": [],
   "source": [
    "# cv2.destroyAllWindows()\n",
    "# for (x,y,w,h) in faces:\n",
    "#     # face_img = cv2.rectangle(img,(x,w),(x+w,y+h),(255,0,0),2)\n",
    "#     roi_gray= gray[y:y+h,x:x+w]\n",
    "#     roi_color= face_img[y:y+h,x:x+w]\n",
    "#     eyes =eye_cascade.detectMultiScale(roi_gray)\n",
    "#     for (ex,ey,ew,eh) in eyes:\n",
    "#         cv2.rectangle(roi_color,(ex,ey),(ex+ew,ey+eh),(0,255,),2)\n",
    "    \n",
    "# plt.figure()\n",
    "# plt.imshow(face_img,cmap='gray')\n",
    "# plt.show()"
   ]
  },
  {
   "cell_type": "code",
   "execution_count": 22,
   "metadata": {},
   "outputs": [],
   "source": [
    "# plt.imshow(roi_color)"
   ]
  },
  {
   "cell_type": "code",
   "execution_count": 23,
   "metadata": {},
   "outputs": [],
   "source": [
    "def get_cropped_img_2_eyes(image_path):\n",
    "    img=cv2.imread(image_path)\n",
    "    gray=cv2.cvtColor(img,cv2.COLOR_BGR2GRAY)\n",
    "    faces=face_cascade.detectMultiScale(gray,1.3,5)\n",
    "    for (x,y,w,h) in faces:\n",
    "        roi_gray= gray[y:y+h,x:x+w]\n",
    "        roi_color=img[y:y+h,x:x+w]\n",
    "        eyes= eye_cascade.detectMultiScale(roi_gray)\n",
    "        if len(eyes)>=2:\n",
    "            return roi_color"
   ]
  },
  {
   "cell_type": "code",
   "execution_count": 24,
   "metadata": {},
   "outputs": [],
   "source": [
    "# messi_img=cv2.imread('./dataset/lionel_messi/messi.jpg')\n",
    "# plt.imshow(messi_img)"
   ]
  },
  {
   "cell_type": "code",
   "execution_count": 25,
   "metadata": {},
   "outputs": [],
   "source": [
    "# cropped_img=get_cropped_img_2_eyes('.\\dataset\\lionel_messi\\messi.jpg')\n",
    "# # plt.imshow(cropped_img)\n",
    "# print(cropped_img)"
   ]
  },
  {
   "cell_type": "code",
   "execution_count": 26,
   "metadata": {},
   "outputs": [],
   "source": [
    "# cropped_img_r=get_cropped_img_2_eyes('.\\\\dataset\\\\cristiano_ronaldo\\\\ronaldoface.jpg')\n",
    "# plt.imshow(cropped_img_r)\n",
    "# cv2.imwrite('.\\\\dataset\\\\ronaldoface.jpg',cropped_img_r)"
   ]
  },
  {
   "cell_type": "code",
   "execution_count": 27,
   "metadata": {},
   "outputs": [],
   "source": [
    "path_to_data='.\\\\dataset'\n",
    "path_to_crdata='.\\\\dataset\\\\cropped\\\\'"
   ]
  },
  {
   "cell_type": "code",
   "execution_count": 28,
   "metadata": {},
   "outputs": [
    {
     "data": {
      "text/plain": [
       "['.\\\\dataset\\\\cristiano_ronaldo',\n",
       " '.\\\\dataset\\\\lionel_messi',\n",
       " '.\\\\dataset\\\\neymar']"
      ]
     },
     "execution_count": 28,
     "metadata": {},
     "output_type": "execute_result"
    }
   ],
   "source": [
    "import os \n",
    "img_dirs=[]\n",
    "for entry in os.scandir(path_to_data):\n",
    "    if entry.is_dir():\n",
    "        folder_path=entry.path\n",
    "        folder_name=folder_path.split('\\\\')[-1]\n",
    "        if folder_name!=\"cropped\":\n",
    "            img_dirs.append(entry.path)\n",
    "img_dirs"
   ]
  },
  {
   "cell_type": "code",
   "execution_count": 29,
   "metadata": {},
   "outputs": [],
   "source": [
    "import shutil\n",
    "\n",
    "if os.path.exists(path_to_crdata):\n",
    "    shutil.rmtree(path_to_crdata)\n",
    "os.mkdir(path_to_crdata)"
   ]
  },
  {
   "cell_type": "code",
   "execution_count": 30,
   "metadata": {},
   "outputs": [
    {
     "name": "stdout",
     "output_type": "stream",
     "text": [
      "cristiano_ronaldo\n",
      "1\n",
      ".\\dataset\\cristiano_ronaldo\\000_32MA9QH.jpg\n",
      "Generating image folder: .\\dataset\\cropped\\cristiano_ronaldo\n",
      "filename: cristiano_ronaldo1.png\n",
      "filepath: .\\dataset\\cropped\\cristiano_ronaldo\\cristiano_ronaldo1.png\n",
      "done\n",
      "2\n",
      ".\\dataset\\cristiano_ronaldo\\01-9.jpg\n",
      "filename: cristiano_ronaldo2.png\n",
      "filepath: .\\dataset\\cropped\\cristiano_ronaldo\\cristiano_ronaldo2.png\n",
      "done\n",
      "3\n",
      ".\\dataset\\cristiano_ronaldo\\0_Chelsea-target-Cristiano-Ronaldo-in-recent-Nations-League-action-for-Portugal.jpg\n",
      "filename: cristiano_ronaldo3.png\n",
      "filepath: .\\dataset\\cropped\\cristiano_ronaldo\\cristiano_ronaldo3.png\n",
      "done\n",
      "4\n",
      ".\\dataset\\cristiano_ronaldo\\1150780.jpg\n",
      "4\n",
      ".\\dataset\\cristiano_ronaldo\\13029.jpg\n",
      "filename: cristiano_ronaldo4.png\n",
      "filepath: .\\dataset\\cropped\\cristiano_ronaldo\\cristiano_ronaldo4.png\n",
      "done\n",
      "5\n",
      ".\\dataset\\cristiano_ronaldo\\2022-group-h-match-portugal-779033372.webp\n",
      "filename: cristiano_ronaldo5.png\n",
      "filepath: .\\dataset\\cropped\\cristiano_ronaldo\\cristiano_ronaldo5.png\n",
      "done\n",
      "6\n",
      ".\\dataset\\cristiano_ronaldo\\221122175737-cristiano-ronaldo.jpg\n",
      "6\n",
      ".\\dataset\\cristiano_ronaldo\\230621042149-01-cristiano-ronaldo-euro-200-apps-062023-restricted.jpg\n",
      "filename: cristiano_ronaldo6.png\n",
      "filepath: .\\dataset\\cropped\\cristiano_ronaldo\\cristiano_ronaldo6.png\n",
      "done\n",
      "7\n",
      ".\\dataset\\cristiano_ronaldo\\277484.jpg\n",
      "7\n",
      ".\\dataset\\cristiano_ronaldo\\2987.jpg\n",
      "7\n",
      ".\\dataset\\cristiano_ronaldo\\3600.jpg\n",
      "7\n",
      ".\\dataset\\cristiano_ronaldo\\400px-Cristiano_Ronaldo_2018.jpg\n",
      "filename: cristiano_ronaldo7.png\n",
      "filepath: .\\dataset\\cropped\\cristiano_ronaldo\\cristiano_ronaldo7.png\n",
      "done\n",
      "8\n",
      ".\\dataset\\cristiano_ronaldo\\800px-C._Ronaldo_-_Ballon_d_27Or_2014.jpg\n",
      "8\n",
      ".\\dataset\\cristiano_ronaldo\\8198-1685035469.png\n",
      "filename: cristiano_ronaldo8.png\n",
      "filepath: .\\dataset\\cropped\\cristiano_ronaldo\\cristiano_ronaldo8.png\n",
      "done\n",
      "9\n",
      ".\\dataset\\cristiano_ronaldo\\ap22298283107973-f8640b908dc0eb08f261fcab4bec95d365cc3c95-s1100-c50.jpg\n",
      "9\n",
      ".\\dataset\\cristiano_ronaldo\\ap22364795346345-2c6120b6fd7a4e91f1b49c8bafa1d3b9ae28e482-s1100-c50.jpg\n",
      "filename: cristiano_ronaldo9.png\n",
      "filepath: .\\dataset\\cropped\\cristiano_ronaldo\\cristiano_ronaldo9.png\n",
      "done\n",
      "10\n",
      ".\\dataset\\cristiano_ronaldo\\Caesar-Ronaldo.jpg\n",
      "10\n",
      ".\\dataset\\cristiano_ronaldo\\com_images_image_private_t_s_w960_t_s_16_9_g_auto_f_auto_primary_ (1).jpg\n",
      "filename: cristiano_ronaldo10.png\n",
      "filepath: .\\dataset\\cropped\\cristiano_ronaldo\\cristiano_ronaldo10.png\n",
      "done\n",
      "11\n",
      ".\\dataset\\cristiano_ronaldo\\com_images_image_private_t_s_w960_t_s_16_9_g_auto_f_auto_primary_.jpg\n",
      "11\n",
      ".\\dataset\\cristiano_ronaldo\\com_media_.jpg\n",
      "filename: cristiano_ronaldo11.png\n",
      "filepath: .\\dataset\\cropped\\cristiano_ronaldo\\cristiano_ronaldo11.png\n",
      "done\n",
      "12\n",
      ".\\dataset\\cristiano_ronaldo\\Cristiano-Ronaldo-02-123022-2ffaa0665b4e4d1d86aae39ef125ead1.jpg\n",
      "filename: cristiano_ronaldo12.png\n",
      "filepath: .\\dataset\\cropped\\cristiano_ronaldo\\cristiano_ronaldo12.png\n",
      "done\n",
      "13\n",
      ".\\dataset\\cristiano_ronaldo\\cristiano-ronaldo-1618341_1280.jpg\n",
      "filename: cristiano_ronaldo13.png\n",
      "filepath: .\\dataset\\cropped\\cristiano_ronaldo\\cristiano_ronaldo13.png\n",
      "done\n",
      "14\n",
      ".\\dataset\\cristiano_ronaldo\\Cristiano-Ronaldo-ceremony-rename-airport-Santa-Cruz-Madeira-Portugal-March-29-2017.jpg\n",
      "filename: cristiano_ronaldo14.png\n",
      "filepath: .\\dataset\\cropped\\cristiano_ronaldo\\cristiano_ronaldo14.png\n",
      "done\n",
      "15\n",
      ".\\dataset\\cristiano_ronaldo\\cristiano-ronaldo-match-milan-italy-february-g-meazza-san-siro-stadium-uefa-champions-league-fc-inter-manchester-united-188187217.jpg\n",
      "15\n",
      ".\\dataset\\cristiano_ronaldo\\cristiano-ronaldo-of-manchester-united-celebrates-after-scoring-his-sides-first-goal-from-the.jpg\n",
      "15\n",
      ".\\dataset\\cristiano_ronaldo\\cristiano-ronaldo-of-manchester-united-looks-dejected-following-manchester-citys-second-goal.jpg\n",
      "15\n",
      ".\\dataset\\cristiano_ronaldo\\cristiano-ronaldo-of-manchester-united-looks-on-during-the-premier-league-match-between.jpg\n",
      "15\n",
      ".\\dataset\\cristiano_ronaldo\\cristiano-ronaldo-portugal-5-june-2022.jpg\n",
      "15\n",
      ".\\dataset\\cristiano_ronaldo\\cristiano-ronaldo-torino-th-march-portugal-fifa-world-cup-qualifiers-match-azerbaijan-214330197.jpg\n",
      "15\n",
      ".\\dataset\\cristiano_ronaldo\\cristiano-ronaldo-was-warned-by-lionel-messi-over-manchester-united-return-details-here.jpg\n",
      "filename: cristiano_ronaldo15.png\n",
      "filepath: .\\dataset\\cropped\\cristiano_ronaldo\\cristiano_ronaldo15.png\n",
      "done\n",
      "16\n",
      ".\\dataset\\cristiano_ronaldo\\cristiano-ronaldo.jpg\n",
      "filename: cristiano_ronaldo16.png\n",
      "filepath: .\\dataset\\cropped\\cristiano_ronaldo\\cristiano_ronaldo16.png\n",
      "done\n",
      "17\n",
      ".\\dataset\\cristiano_ronaldo\\Cristiano_Ronaldo_celebrate_Al-Nassr_Al-Wehda_2023.jpg\n",
      "17\n",
      ".\\dataset\\cristiano_ronaldo\\Cristiano_Ronaldo_Portugal_2023.jpg\n",
      "17\n",
      ".\\dataset\\cristiano_ronaldo\\Cristiano_Ronaldo_WC2022_-_01__28cropped_29.jpg\n",
      "17\n",
      ".\\dataset\\cristiano_ronaldo\\depositphotos_550391360-stock-photo-madrid-spain-2022-uefa-champions.jpg\n",
      "17\n",
      ".\\dataset\\cristiano_ronaldo\\f77adfa8-9f0c-4012-9c02-4bd7e485b0b1.sized-1000x1000.jpg\n",
      "filename: cristiano_ronaldo17.png\n",
      "filepath: .\\dataset\\cropped\\cristiano_ronaldo\\cristiano_ronaldo17.png\n",
      "done\n",
      "18\n",
      ".\\dataset\\cristiano_ronaldo\\file-20210910-24-eliqzc.jpg_ixlib=rb-1.1.jpg\n",
      "18\n",
      ".\\dataset\\cristiano_ronaldo\\GettyImages-1245184407.jpg\n",
      "filename: cristiano_ronaldo18.png\n",
      "filepath: .\\dataset\\cropped\\cristiano_ronaldo\\cristiano_ronaldo18.png\n",
      "done\n",
      "19\n",
      ".\\dataset\\cristiano_ronaldo\\GettyImages-1443064180.jpg\n",
      "filename: cristiano_ronaldo19.png\n",
      "filepath: .\\dataset\\cropped\\cristiano_ronaldo\\cristiano_ronaldo19.png\n",
      "done\n",
      "20\n",
      ".\\dataset\\cristiano_ronaldo\\is-cristiano-ronaldo-leaving-manchester-united-after-fifa-world-cup-2022.jpg\n",
      "filename: cristiano_ronaldo20.png\n",
      "filepath: .\\dataset\\cropped\\cristiano_ronaldo\\cristiano_ronaldo20.png\n",
      "done\n",
      "21\n",
      ".\\dataset\\cristiano_ronaldo\\MV5BODE3MDUxN2UtNmM4My00ZjU2LWJmYzYtZTIwY2JkODkzNjA1XkEyXkFqcGdeQXVyNjc1OTk4NjA@.jpg\n",
      "21\n",
      ".\\dataset\\cristiano_ronaldo\\MY4F2ACIVZIIBACBYLPSVQNI6Y.jpg\n",
      "filename: cristiano_ronaldo21.png\n",
      "filepath: .\\dataset\\cropped\\cristiano_ronaldo\\cristiano_ronaldo21.png\n",
      "done\n",
      "22\n",
      ".\\dataset\\cristiano_ronaldo\\newFile-5.jpg\n",
      "22\n",
      ".\\dataset\\cristiano_ronaldo\\Ronaldo_WC22.png\n",
      "filename: cristiano_ronaldo22.png\n",
      "filepath: .\\dataset\\cropped\\cristiano_ronaldo\\cristiano_ronaldo22.png\n",
      "done\n",
      "23\n",
      ".\\dataset\\cristiano_ronaldo\\rs_1200x1200-221206105941-1200-Cristiano_Ronaldo-FIFA_World_Cup_Qatar_2022-gj.jpg\n",
      "filename: cristiano_ronaldo23.png\n",
      "filepath: .\\dataset\\cropped\\cristiano_ronaldo\\cristiano_ronaldo23.png\n",
      "done\n",
      "24\n",
      ".\\dataset\\cristiano_ronaldo\\rs_634x1024-190109152450-634x1024-cristianoronaldo-gj-1-9-19.jpg\n",
      "filename: cristiano_ronaldo24.png\n",
      "filepath: .\\dataset\\cropped\\cristiano_ronaldo\\cristiano_ronaldo24.png\n",
      "done\n",
      "25\n",
      ".\\dataset\\cristiano_ronaldo\\skysports-portugal-uruguay_5980862.jpg\n",
      "25\n",
      ".\\dataset\\cristiano_ronaldo\\SOCCER-EUROPA-SOC-MUN-REPORT-4_1668392702146_1668392702146_1668392733595_1668392733595.jpg\n",
      "25\n",
      ".\\dataset\\cristiano_ronaldo\\Soccer-forward-Cristiano-Ronaldo-2018.jpg\n",
      "filename: cristiano_ronaldo25.png\n",
      "filepath: .\\dataset\\cropped\\cristiano_ronaldo\\cristiano_ronaldo25.png\n",
      "done\n",
      "26\n",
      ".\\dataset\\cristiano_ronaldo\\SOCCER-WORLDCUP-MAR-POR-REPORT-841_1671101976712_1671101976712_1671101985209_1671101985209.jpg\n",
      "filename: cristiano_ronaldo26.png\n",
      "filepath: .\\dataset\\cropped\\cristiano_ronaldo\\cristiano_ronaldo26.png\n",
      "done\n",
      "27\n",
      ".\\dataset\\cristiano_ronaldo\\_url=https_3A_2F_2Fcalifornia-times-brightspot.s3.amazonaws.com_2Fb6_2F5a_2F922dfc0b4bac9f645bd01c5b885a_2Fwcup-portugal-uruguay-soccer-92176.jpg\n",
      "filename: cristiano_ronaldo27.png\n",
      "filepath: .\\dataset\\cropped\\cristiano_ronaldo\\cristiano_ronaldo27.png\n",
      "done\n",
      "lionel_messi\n",
      "1\n",
      ".\\dataset\\lionel_messi\\09rory-top2-mediumSquareAt3X-v2.jpg\n",
      "1\n",
      ".\\dataset\\lionel_messi\\0a1fc12388586d4b82bd9b34d196c34d.jpg\n",
      "Generating image folder: .\\dataset\\cropped\\lionel_messi\n",
      "filename: lionel_messi1.png\n",
      "filepath: .\\dataset\\cropped\\lionel_messi\\lionel_messi1.png\n",
      "done\n",
      "2\n",
      ".\\dataset\\lionel_messi\\1200px-Cristiano_Ronaldo_and_Lionel_Messi_-_Portugal_vs_Argentina_2C_9th_February_2011.jpg\n",
      "filename: lionel_messi2.png\n",
      "filepath: .\\dataset\\cropped\\lionel_messi\\lionel_messi2.png\n",
      "done\n",
      "3\n",
      ".\\dataset\\lionel_messi\\16694993827727.jpg\n",
      "filename: lionel_messi3.png\n",
      "filepath: .\\dataset\\cropped\\lionel_messi\\lionel_messi3.png\n",
      "done\n",
      "4\n",
      ".\\dataset\\lionel_messi\\16769300125040.jpg\n",
      "filename: lionel_messi4.png\n",
      "filepath: .\\dataset\\cropped\\lionel_messi\\lionel_messi4.png\n",
      "done\n",
      "5\n",
      ".\\dataset\\lionel_messi\\16b535bc-165a-43fe-a9bc-d95fbe99a620.jpg\n",
      "filename: lionel_messi5.png\n",
      "filepath: .\\dataset\\cropped\\lionel_messi\\lionel_messi5.png\n",
      "done\n",
      "6\n",
      ".\\dataset\\lionel_messi\\221208164147-argentina-lionel-messi.jpg\n",
      "filename: lionel_messi6.png\n",
      "filepath: .\\dataset\\cropped\\lionel_messi\\lionel_messi6.png\n",
      "done\n",
      "7\n",
      ".\\dataset\\lionel_messi\\221218155450-29-world-cup-final-1218.jpg\n",
      "7\n",
      ".\\dataset\\lionel_messi\\2291.jpg\n",
      "filename: lionel_messi7.png\n",
      "filepath: .\\dataset\\cropped\\lionel_messi\\lionel_messi7.png\n",
      "done\n",
      "8\n",
      ".\\dataset\\lionel_messi\\230525112408-lionel-messi-0521.jpg\n",
      "filename: lionel_messi8.png\n",
      "filepath: .\\dataset\\cropped\\lionel_messi\\lionel_messi8.png\n",
      "done\n",
      "9\n",
      ".\\dataset\\lionel_messi\\247181.jpg\n",
      "9\n",
      ".\\dataset\\lionel_messi\\26622.jpg\n",
      "filename: lionel_messi9.png\n",
      "filepath: .\\dataset\\cropped\\lionel_messi\\lionel_messi9.png\n",
      "done\n",
      "10\n",
      ".\\dataset\\lionel_messi\\30002c47f6e87b70ed07b0c675a26ee6.jpg\n",
      "10\n",
      ".\\dataset\\lionel_messi\\36-Lionel-Messi.jpg\n",
      "filename: lionel_messi10.png\n",
      "filepath: .\\dataset\\cropped\\lionel_messi\\lionel_messi10.png\n",
      "done\n",
      "11\n",
      ".\\dataset\\lionel_messi\\43558cb99a2367d836ab4e0be4d15f22.jpg\n",
      "11\n",
      ".\\dataset\\lionel_messi\\5-lionel-messi-record-world-cup.jpg\n",
      "11\n",
      ".\\dataset\\lionel_messi\\640px-Lionel_Messi_20180626.jpg\n",
      "11\n",
      ".\\dataset\\lionel_messi\\711.png\n",
      "filename: lionel_messi11.png\n",
      "filepath: .\\dataset\\cropped\\lionel_messi\\lionel_messi11.png\n",
      "done\n",
      "12\n",
      ".\\dataset\\lionel_messi\\960x0.jpg\n",
      "12\n",
      ".\\dataset\\lionel_messi\\ad-u-Messi.jpg\n",
      "12\n",
      ".\\dataset\\lionel_messi\\au_.jpg\n",
      "12\n",
      ".\\dataset\\lionel_messi\\GettyImages-1245748917-99e3329a7b8147e8ab648806220ce153.jpg\n",
      "filename: lionel_messi12.png\n",
      "filepath: .\\dataset\\cropped\\lionel_messi\\lionel_messi12.png\n",
      "done\n",
      "13\n",
      ".\\dataset\\lionel_messi\\GOAL_-_Blank_WEB_-_Facebook_-_2023-05-15T073620.139.jpg\n",
      "filename: lionel_messi13.png\n",
      "filepath: .\\dataset\\cropped\\lionel_messi\\lionel_messi13.png\n",
      "done\n",
      "14\n",
      ".\\dataset\\lionel_messi\\https_3A_2F_2Feverythingbarca.com_2Fwp-content_2Fuploads_2Fgetty-images_2F2017_2F07_2F1318341815.jpg\n",
      "14\n",
      ".\\dataset\\lionel_messi\\https_3A_2F_2Ftherealchamps.com_2Fwp-content_2Fuploads_2Fgetty-images_2F2017_2F07_2F1475698105.jpg\n",
      "filename: lionel_messi14.png\n",
      "filepath: .\\dataset\\cropped\\lionel_messi\\lionel_messi14.png\n",
      "done\n",
      "15\n",
      ".\\dataset\\lionel_messi\\in_photos_63806da6d2c4a1a597b273fd_4_3_w_3859,h_2894,c_limit_.jpg\n",
      "filename: lionel_messi15.png\n",
      "filepath: .\\dataset\\cropped\\lionel_messi\\lionel_messi15.png\n",
      "done\n",
      "16\n",
      ".\\dataset\\lionel_messi\\LeoMessi20092010_pic_fcb-arsenal62.jpg\n",
      "16\n",
      ".\\dataset\\lionel_messi\\Lionel-Messi (1).jpg\n",
      "16\n",
      ".\\dataset\\lionel_messi\\Lionel-Messi-014.jpg\n",
      "filename: lionel_messi16.png\n",
      "filepath: .\\dataset\\cropped\\lionel_messi\\lionel_messi16.png\n",
      "done\n",
      "17\n",
      ".\\dataset\\lionel_messi\\Lionel-Messi-2-1.jpg\n",
      "17\n",
      ".\\dataset\\lionel_messi\\Lionel-Messi-2018 (1).jpg\n",
      "filename: lionel_messi17.png\n",
      "filepath: .\\dataset\\cropped\\lionel_messi\\lionel_messi17.png\n",
      "done\n",
      "18\n",
      ".\\dataset\\lionel_messi\\Lionel-Messi-2018.jpg\n",
      "filename: lionel_messi18.png\n",
      "filepath: .\\dataset\\cropped\\lionel_messi\\lionel_messi18.png\n",
      "done\n",
      "19\n",
      ".\\dataset\\lionel_messi\\lionel-messi-antonela-roccuzzo-1-443e5b4509db4110b410d709fcc8cdbb.jpg\n",
      "filename: lionel_messi19.png\n",
      "filepath: .\\dataset\\cropped\\lionel_messi\\lionel_messi19.png\n",
      "done\n",
      "20\n",
      ".\\dataset\\lionel_messi\\Lionel-Messi-Argentina-2022-FIFA-World-Cup__28cropped_29.jpg\n",
      "20\n",
      ".\\dataset\\lionel_messi\\Lionel-Messi-Argentina-Netherlands-World-Cup-Qatar-2022.jpg\n",
      "20\n",
      ".\\dataset\\lionel_messi\\lionel-messi-celebrates-after-their-sides-third-goal-by-news-photo-1686170172.jpg_crop=0.jpg\n",
      "filename: lionel_messi20.png\n",
      "filepath: .\\dataset\\cropped\\lionel_messi\\lionel_messi20.png\n",
      "done\n",
      "21\n",
      ".\\dataset\\lionel_messi\\lionel-messi-paris-saint-germain-2023-1685872213-108539.jpg\n",
      "filename: lionel_messi21.png\n",
      "filepath: .\\dataset\\cropped\\lionel_messi\\lionel_messi21.png\n",
      "done\n",
      "22\n",
      ".\\dataset\\lionel_messi\\Lionel-Messi-Photo-Twitter.jpg\n",
      "filename: lionel_messi22.png\n",
      "filepath: .\\dataset\\cropped\\lionel_messi\\lionel_messi22.png\n",
      "done\n",
      "23\n",
      ".\\dataset\\lionel_messi\\lionel-messi-plays-copa-del-rey-final-match-sevilla-fc-fc-barcelona-wanda-metropolitano-madrid-apr-lionel-200936100.jpg\n",
      "23\n",
      ".\\dataset\\lionel_messi\\Lionel_Messi_2C_Player_of_FC_Barcelona_team.jpg\n",
      "23\n",
      ".\\dataset\\lionel_messi\\madrid-apr-lionel-messi-plays-copa-del-rey-final-match-sevilla-fc-barcelona-wanda-metropolitano-stadium-200936167.jpg\n",
      "23\n",
      ".\\dataset\\lionel_messi\\merlin_153612873_5bb119b9-8972-4087-b4fd-371cab8c5ba2-articleLarge.jpg\n",
      "23\n",
      ".\\dataset\\lionel_messi\\MESSI.jpg\n",
      "filename: lionel_messi23.png\n",
      "filepath: .\\dataset\\cropped\\lionel_messi\\lionel_messi23.png\n",
      "done\n",
      "24\n",
      ".\\dataset\\lionel_messi\\MV5BNDgwNDgxZWUtNjRjNS00NDJjLWE5MGUtYmEzYjIzMGI1Y2ViXkEyXkFqcGdeQXVyMTMwOTc4OTc5.jpg\n",
      "24\n",
      ".\\dataset\\lionel_messi\\MV5BOTViNmI3NDktODE3OS00M2MwLWI1ZTItNGYyNzUxZGY2Y2FhXkEyXkFqcGdeQXVyNjc1OTk4NjA@.jpg\n",
      "24\n",
      ".\\dataset\\lionel_messi\\photo.jpg\n",
      "filename: lionel_messi24.png\n",
      "filepath: .\\dataset\\cropped\\lionel_messi\\lionel_messi24.png\n",
      "done\n",
      "25\n",
      ".\\dataset\\lionel_messi\\skysports-lionel-messi-argentina_6098577.jpg\n",
      "filename: lionel_messi25.png\n",
      "filepath: .\\dataset\\cropped\\lionel_messi\\lionel_messi25.png\n",
      "done\n",
      "26\n",
      ".\\dataset\\lionel_messi\\skysports-lionel-messi-barcelona_5390329.jpg\n",
      "filename: lionel_messi26.png\n",
      "filepath: .\\dataset\\cropped\\lionel_messi\\lionel_messi26.png\n",
      "done\n",
      "27\n",
      ".\\dataset\\lionel_messi\\skysports-messi-psg-ligue-1_6021068.jpg\n",
      "filename: lionel_messi27.png\n",
      "filepath: .\\dataset\\cropped\\lionel_messi\\lionel_messi27.png\n",
      "done\n",
      "28\n",
      ".\\dataset\\lionel_messi\\Social-16-9_(2).jpg\n",
      "28\n",
      ".\\dataset\\lionel_messi\\stock-photo-barcelona-feb-lionel-messi-celebrates-a-goal-at-the-la-liga-match-between-fc-barcelona-and-sd-1906843099.jpg\n",
      "28\n",
      ".\\dataset\\lionel_messi\\stock-photo-ciudad-de-buenos-aires-argentina-october-lionel-messi-during-south-american-eliminatoria-2162204817.jpg\n",
      "28\n",
      ".\\dataset\\lionel_messi\\stock-photo-leo-lionel-messi-during-the-ligue-football-soccer-match-between-aj-auxerre-aja-and-paris-2316425635.jpg\n",
      "neymar\n",
      "1\n",
      ".\\dataset\\neymar\\02neymar01-mediumSquareAt3X.jpg\n",
      "Generating image folder: .\\dataset\\cropped\\neymar\n",
      "filename: neymar1.png\n",
      "filepath: .\\dataset\\cropped\\neymar\\neymar1.png\n",
      "done\n",
      "2\n",
      ".\\dataset\\neymar\\100945514.webp\n",
      "2\n",
      ".\\dataset\\neymar\\104651993-neymar.jpg\n",
      "2\n",
      ".\\dataset\\neymar\\1200px-Neymar__28cropped_29.jpg\n",
      "filename: neymar2.png\n",
      "filepath: .\\dataset\\cropped\\neymar\\neymar2.png\n",
      "done\n",
      "3\n",
      ".\\dataset\\neymar\\142105.jpg\n",
      "filename: neymar3.png\n",
      "filepath: .\\dataset\\cropped\\neymar\\neymar3.png\n",
      "done\n",
      "4\n",
      ".\\dataset\\neymar\\1467970697.0.jpg\n",
      "filename: neymar4.png\n",
      "filepath: .\\dataset\\cropped\\neymar\\neymar4.png\n",
      "done\n",
      "5\n",
      ".\\dataset\\neymar\\16781974527911.jpg\n",
      "5\n",
      ".\\dataset\\neymar\\2022-11-24T191816Z_463653891_UP1EIBO1HMDNM_RTRMADP_3_SOCCER-WORLDCUP-BRA-SRB-REPORT.jpg\n",
      "5\n",
      ".\\dataset\\neymar\\230307102122-01-neymar-021423.jpg\n",
      "5\n",
      ".\\dataset\\neymar\\27neymar-nike-web-1-mediumSquareAt3X.jpg\n",
      "filename: neymar5.png\n",
      "filepath: .\\dataset\\cropped\\neymar\\neymar5.png\n",
      "done\n",
      "6\n",
      ".\\dataset\\neymar\\3378.jpg\n",
      "6\n",
      ".\\dataset\\neymar\\339L23Q-highres.jpg\n",
      "6\n",
      ".\\dataset\\neymar\\4099.jpg\n",
      "filename: neymar6.png\n",
      "filepath: .\\dataset\\cropped\\neymar\\neymar6.png\n",
      "done\n",
      "7\n",
      ".\\dataset\\neymar\\5d2b5694acb2e709b24aef57979db522.jpg\n",
      "filename: neymar7.png\n",
      "filepath: .\\dataset\\cropped\\neymar\\neymar7.png\n",
      "done\n",
      "8\n",
      ".\\dataset\\neymar\\68290-1669394812.jpg\n",
      "filename: neymar8.png\n",
      "filepath: .\\dataset\\cropped\\neymar\\neymar8.png\n",
      "done\n",
      "9\n",
      ".\\dataset\\neymar\\683px-Neymar_PSG.jpg\n",
      "9\n",
      ".\\dataset\\neymar\\713.vresize.350.350.medium.34.png\n",
      "filename: neymar9.png\n",
      "filepath: .\\dataset\\cropped\\neymar\\neymar9.png\n",
      "done\n",
      "10\n",
      ".\\dataset\\neymar\\7c595e9a72096e70b370f6606a6f35c9.jpg\n",
      "10\n",
      ".\\dataset\\neymar\\8115aca8104fd0a6c5ee63ea6948d62d7135f9f2.jpg\n",
      "filename: neymar10.png\n",
      "filepath: .\\dataset\\cropped\\neymar\\neymar10.png\n",
      "done\n",
      "11\n",
      ".\\dataset\\neymar\\8db9d4c17e2541acb303bd8aa785f971.jpg\n",
      "filename: neymar11.png\n",
      "filepath: .\\dataset\\cropped\\neymar\\neymar11.png\n",
      "done\n",
      "12\n",
      ".\\dataset\\neymar\\97498580.webp\n",
      "12\n",
      ".\\dataset\\neymar\\brazil-neymar-celebrates-extra-time-goal-croatia-world-cup-dec22.jpg\n",
      "filename: neymar12.png\n",
      "filepath: .\\dataset\\cropped\\neymar\\neymar12.png\n",
      "done\n",
      "13\n",
      ".\\dataset\\neymar\\com_.jpg\n",
      "filename: neymar13.png\n",
      "filepath: .\\dataset\\cropped\\neymar\\neymar13.png\n",
      "done\n",
      "14\n",
      ".\\dataset\\neymar\\desktop-wallpaper-neymar-jr-2020-cool-neymar-jr-thumbnail.jpg\n",
      "14\n",
      ".\\dataset\\neymar\\e73738eb22d4c1ed5fab3e357fe4a6c8.jpg\n",
      "filename: neymar14.png\n",
      "filepath: .\\dataset\\cropped\\neymar\\neymar14.png\n",
      "done\n",
      "15\n",
      ".\\dataset\\neymar\\file-photo-paris-st-germain-training.jpg\n",
      "15\n",
      ".\\dataset\\neymar\\FYhUEpWWAAEgqtd.jpg\n",
      "15\n",
      ".\\dataset\\neymar\\GettyImages-1247035430.jpg\n",
      "filename: neymar15.png\n",
      "filepath: .\\dataset\\cropped\\neymar\\neymar15.png\n",
      "done\n",
      "16\n",
      ".\\dataset\\neymar\\GettyImages-1443106332.jpg\n",
      "filename: neymar16.png\n",
      "filepath: .\\dataset\\cropped\\neymar\\neymar16.png\n",
      "done\n",
      "17\n",
      ".\\dataset\\neymar\\https_3A_2F_2Ftherealchamps.com_2Fwp-content_2Fuploads_2Fgetty-images_2F2017_2F07_2F1243655077.jpg\n",
      "17\n",
      ".\\dataset\\neymar\\kylian-mbappe-of-paris-saint-germain-looks-on-as-teammates-lionel-messi-and-neymar-talk-in.jpg\n",
      "17\n",
      ".\\dataset\\neymar\\maxresdefault.jpg\n",
      "filename: neymar17.png\n",
      "filepath: .\\dataset\\cropped\\neymar\\neymar17.png\n",
      "done\n",
      "18\n",
      ".\\dataset\\neymar\\Neymar (1).jpg\n",
      "18\n",
      ".\\dataset\\neymar\\Neymar (2).jpg\n",
      "18\n",
      ".\\dataset\\neymar\\neymar-1.jpg\n",
      "18\n",
      ".\\dataset\\neymar\\neymar-brazil-2022-1668947132-97009.jpg\n",
      "filename: neymar18.png\n",
      "filepath: .\\dataset\\cropped\\neymar\\neymar18.png\n",
      "done\n",
      "19\n",
      ".\\dataset\\neymar\\neymar-brazil-2022-1668947300-97010.jpg\n",
      "filename: neymar19.png\n",
      "filepath: .\\dataset\\cropped\\neymar\\neymar19.png\n",
      "done\n",
      "20\n",
      ".\\dataset\\neymar\\neymar-c-messi-l-suarez-r-la-liga-match-valencia-spain-oct-neymar-c-messi-l-suarez-r-la-liga-match-103898586.jpg\n",
      "20\n",
      ".\\dataset\\neymar\\neymar-jr-heart-hand-symbol-na8m1x01gq42ku6f.jpg\n",
      "20\n",
      ".\\dataset\\neymar\\neymar-jr-of-brazil-celebrates-scoring-his-sides-first-goal-during-the-international-friendly.jpg\n",
      "20\n",
      ".\\dataset\\neymar\\neymar-jr-sportstiger-1687510668924-original.jpg\n",
      "20\n",
      ".\\dataset\\neymar\\neymar-jr-with-popping-colors-yy3iqnpctd587lxb.jpg\n",
      "filename: neymar20.png\n",
      "filepath: .\\dataset\\cropped\\neymar\\neymar20.png\n",
      "done\n",
      "21\n",
      ".\\dataset\\neymar\\neymar-of-paris-saint-germain-reacts-during-a-training-session-ahead-of-their-uefa-champions.jpg\n",
      "21\n",
      ".\\dataset\\neymar\\neymar-warming-up-uefa-champions-league-match-belgrade-serbia-december-neymar-da-silva-santos-junior-warming-up-uefa-135807225.jpg\n",
      "21\n",
      ".\\dataset\\neymar\\neymar.jpg\n",
      "filename: neymar21.png\n",
      "filepath: .\\dataset\\cropped\\neymar\\neymar21.png\n",
      "done\n",
      "22\n",
      ".\\dataset\\neymar\\NEYMAR.png\n",
      "filename: neymar22.png\n",
      "filepath: .\\dataset\\cropped\\neymar\\neymar22.png\n",
      "done\n",
      "23\n",
      ".\\dataset\\neymar\\Neymar_Jr_1670779710460_1670779710605_1670779710605.jpg\n",
      "23\n",
      ".\\dataset\\neymar\\Neymar_PSG_2021-22.jpg\n",
      "23\n",
      ".\\dataset\\neymar\\pjimage-2022-03-11t104410.084.jpg\n",
      "23\n",
      ".\\dataset\\neymar\\SOCCER-CHAMPIONS-PSG-BAY-REPORT-50_1678139930576_1678139930576_1678139944494_1678139944494.jpg\n",
      "23\n",
      ".\\dataset\\neymar\\SOCCER-WORLDCUP-CRO-BRA-REPORT-223_1671192813525_1671192813525_1671192826000_1671192826000.jpg\n",
      "filename: neymar23.png\n",
      "filepath: .\\dataset\\cropped\\neymar\\neymar23.png\n",
      "done\n",
      "24\n",
      ".\\dataset\\neymar\\stock-photo-moscow-russia-june-brazilian-superstar-neymar-before-fifa-world-cup-match-serbia-1127878157.jpg\n",
      "filename: neymar24.png\n",
      "filepath: .\\dataset\\cropped\\neymar\\neymar24.png\n",
      "done\n",
      "25\n",
      ".\\dataset\\neymar\\stock-photo-neymar-da-silva-santos-j-nior-paris-lors-du-match-de-championnat-de-france-de-football-de-ligue-2130068630.jpg\n",
      "25\n",
      ".\\dataset\\neymar\\stock-photo-rio-de-janeiro-brazil-june-brazil-v-colombia-copa-america-group-b-football-1996363514.jpg\n",
      "filename: neymar25.png\n",
      "filepath: .\\dataset\\cropped\\neymar\\neymar25.png\n",
      "done\n",
      "26\n",
      ".\\dataset\\neymar\\WhatsApp-Image-2023-02-13-at-9.37.53-AM.jpg\n",
      "filename: neymar26.png\n",
      "filepath: .\\dataset\\cropped\\neymar\\neymar26.png\n",
      "done\n",
      "27\n",
      ".\\dataset\\neymar\\WMWZYHRROJNNHAGQ6KM56RVTFU.jpg\n",
      "filename: neymar27.png\n",
      "filepath: .\\dataset\\cropped\\neymar\\neymar27.png\n",
      "done\n"
     ]
    }
   ],
   "source": [
    "cropped_image_dirs=[]\n",
    "celebrity_file_names_dict={}\n",
    " \n",
    "for img_dir in img_dirs:\n",
    "    celebrity_name=img_dir.split('\\\\')[-1]\n",
    "    print(celebrity_name)\n",
    "    count=1\n",
    "    number=1\n",
    "    for entry in os.scandir(img_dir):\n",
    "        print(number)\n",
    "        print(entry.path)\n",
    "        roi_color=get_cropped_img_2_eyes(entry.path)\n",
    "        # roi_color=cv2.imencode('.png',roi_color_rext)\n",
    "        # plt.imshow(roi_color)\n",
    "        if roi_color is not None:\n",
    "            cropped_folder=path_to_crdata+celebrity_name\n",
    "            if not os.path.exists(cropped_folder):\n",
    "                os.makedirs(cropped_folder)\n",
    "                cropped_image_dirs.append(cropped_folder)\n",
    "                print(\"Generating image folder:\",cropped_folder)\n",
    "            cropped_file_name=celebrity_name+str(count)+\".png\"\n",
    "            print(\"filename:\",cropped_file_name)\n",
    "            cropped_file_path=cropped_folder+\"\\\\\"+cropped_file_name\n",
    "            print(\"filepath:\",cropped_file_path)\n",
    "            cv2.imwrite(cropped_file_path,roi_color)\n",
    "            print(\"done\")\n",
    "            celebrity_file_names_dict.setdefault(celebrity_name,[]).append(cropped_file_path)\n",
    "            count+=1\n",
    "            number+=1      \n"
   ]
  },
  {
   "cell_type": "code",
   "execution_count": 31,
   "metadata": {},
   "outputs": [
    {
     "data": {
      "text/plain": [
       "['.\\\\dataset\\\\cropped\\\\cristiano_ronaldo',\n",
       " '.\\\\dataset\\\\cropped\\\\lionel_messi',\n",
       " '.\\\\dataset\\\\cropped\\\\neymar']"
      ]
     },
     "execution_count": 31,
     "metadata": {},
     "output_type": "execute_result"
    }
   ],
   "source": [
    "celebrity_file_names_dict\n",
    "cropped_image_dirs"
   ]
  },
  {
   "cell_type": "code",
   "execution_count": 32,
   "metadata": {},
   "outputs": [
    {
     "data": {
      "text/plain": [
       "{'cristiano_ronaldo': ['.\\\\dataset\\\\cropped\\\\cristiano_ronaldo\\\\cristiano_ronaldo1.png',\n",
       "  '.\\\\dataset\\\\cropped\\\\cristiano_ronaldo\\\\cristiano_ronaldo10.png',\n",
       "  '.\\\\dataset\\\\cropped\\\\cristiano_ronaldo\\\\cristiano_ronaldo11.png',\n",
       "  '.\\\\dataset\\\\cropped\\\\cristiano_ronaldo\\\\cristiano_ronaldo12.png',\n",
       "  '.\\\\dataset\\\\cropped\\\\cristiano_ronaldo\\\\cristiano_ronaldo13.png',\n",
       "  '.\\\\dataset\\\\cropped\\\\cristiano_ronaldo\\\\cristiano_ronaldo14.png',\n",
       "  '.\\\\dataset\\\\cropped\\\\cristiano_ronaldo\\\\cristiano_ronaldo15.png',\n",
       "  '.\\\\dataset\\\\cropped\\\\cristiano_ronaldo\\\\cristiano_ronaldo16.png',\n",
       "  '.\\\\dataset\\\\cropped\\\\cristiano_ronaldo\\\\cristiano_ronaldo17.png',\n",
       "  '.\\\\dataset\\\\cropped\\\\cristiano_ronaldo\\\\cristiano_ronaldo18.png',\n",
       "  '.\\\\dataset\\\\cropped\\\\cristiano_ronaldo\\\\cristiano_ronaldo19.png',\n",
       "  '.\\\\dataset\\\\cropped\\\\cristiano_ronaldo\\\\cristiano_ronaldo2.png',\n",
       "  '.\\\\dataset\\\\cropped\\\\cristiano_ronaldo\\\\cristiano_ronaldo20.png',\n",
       "  '.\\\\dataset\\\\cropped\\\\cristiano_ronaldo\\\\cristiano_ronaldo21.png',\n",
       "  '.\\\\dataset\\\\cropped\\\\cristiano_ronaldo\\\\cristiano_ronaldo22.png',\n",
       "  '.\\\\dataset\\\\cropped\\\\cristiano_ronaldo\\\\cristiano_ronaldo23.png',\n",
       "  '.\\\\dataset\\\\cropped\\\\cristiano_ronaldo\\\\cristiano_ronaldo24.png',\n",
       "  '.\\\\dataset\\\\cropped\\\\cristiano_ronaldo\\\\cristiano_ronaldo25.png',\n",
       "  '.\\\\dataset\\\\cropped\\\\cristiano_ronaldo\\\\cristiano_ronaldo26.png',\n",
       "  '.\\\\dataset\\\\cropped\\\\cristiano_ronaldo\\\\cristiano_ronaldo27.png',\n",
       "  '.\\\\dataset\\\\cropped\\\\cristiano_ronaldo\\\\cristiano_ronaldo3.png',\n",
       "  '.\\\\dataset\\\\cropped\\\\cristiano_ronaldo\\\\cristiano_ronaldo4.png',\n",
       "  '.\\\\dataset\\\\cropped\\\\cristiano_ronaldo\\\\cristiano_ronaldo5.png',\n",
       "  '.\\\\dataset\\\\cropped\\\\cristiano_ronaldo\\\\cristiano_ronaldo6.png',\n",
       "  '.\\\\dataset\\\\cropped\\\\cristiano_ronaldo\\\\cristiano_ronaldo7.png',\n",
       "  '.\\\\dataset\\\\cropped\\\\cristiano_ronaldo\\\\cristiano_ronaldo8.png',\n",
       "  '.\\\\dataset\\\\cropped\\\\cristiano_ronaldo\\\\cristiano_ronaldo9.png'],\n",
       " 'lionel_messi': ['.\\\\dataset\\\\cropped\\\\lionel_messi\\\\lionel_messi1.png',\n",
       "  '.\\\\dataset\\\\cropped\\\\lionel_messi\\\\lionel_messi10.png',\n",
       "  '.\\\\dataset\\\\cropped\\\\lionel_messi\\\\lionel_messi11.png',\n",
       "  '.\\\\dataset\\\\cropped\\\\lionel_messi\\\\lionel_messi12.png',\n",
       "  '.\\\\dataset\\\\cropped\\\\lionel_messi\\\\lionel_messi13.png',\n",
       "  '.\\\\dataset\\\\cropped\\\\lionel_messi\\\\lionel_messi14.png',\n",
       "  '.\\\\dataset\\\\cropped\\\\lionel_messi\\\\lionel_messi15.png',\n",
       "  '.\\\\dataset\\\\cropped\\\\lionel_messi\\\\lionel_messi16.png',\n",
       "  '.\\\\dataset\\\\cropped\\\\lionel_messi\\\\lionel_messi17.png',\n",
       "  '.\\\\dataset\\\\cropped\\\\lionel_messi\\\\lionel_messi18.png',\n",
       "  '.\\\\dataset\\\\cropped\\\\lionel_messi\\\\lionel_messi19.png',\n",
       "  '.\\\\dataset\\\\cropped\\\\lionel_messi\\\\lionel_messi2.png',\n",
       "  '.\\\\dataset\\\\cropped\\\\lionel_messi\\\\lionel_messi20.png',\n",
       "  '.\\\\dataset\\\\cropped\\\\lionel_messi\\\\lionel_messi21.png',\n",
       "  '.\\\\dataset\\\\cropped\\\\lionel_messi\\\\lionel_messi22.png',\n",
       "  '.\\\\dataset\\\\cropped\\\\lionel_messi\\\\lionel_messi23.png',\n",
       "  '.\\\\dataset\\\\cropped\\\\lionel_messi\\\\lionel_messi24.png',\n",
       "  '.\\\\dataset\\\\cropped\\\\lionel_messi\\\\lionel_messi25.png',\n",
       "  '.\\\\dataset\\\\cropped\\\\lionel_messi\\\\lionel_messi26.png',\n",
       "  '.\\\\dataset\\\\cropped\\\\lionel_messi\\\\lionel_messi27.png',\n",
       "  '.\\\\dataset\\\\cropped\\\\lionel_messi\\\\lionel_messi3.png',\n",
       "  '.\\\\dataset\\\\cropped\\\\lionel_messi\\\\lionel_messi4.png',\n",
       "  '.\\\\dataset\\\\cropped\\\\lionel_messi\\\\lionel_messi5.png',\n",
       "  '.\\\\dataset\\\\cropped\\\\lionel_messi\\\\lionel_messi6.png',\n",
       "  '.\\\\dataset\\\\cropped\\\\lionel_messi\\\\lionel_messi7.png',\n",
       "  '.\\\\dataset\\\\cropped\\\\lionel_messi\\\\lionel_messi8.png',\n",
       "  '.\\\\dataset\\\\cropped\\\\lionel_messi\\\\lionel_messi9.png'],\n",
       " 'neymar': ['.\\\\dataset\\\\cropped\\\\neymar\\\\neymar1.png',\n",
       "  '.\\\\dataset\\\\cropped\\\\neymar\\\\neymar10.png',\n",
       "  '.\\\\dataset\\\\cropped\\\\neymar\\\\neymar11.png',\n",
       "  '.\\\\dataset\\\\cropped\\\\neymar\\\\neymar12.png',\n",
       "  '.\\\\dataset\\\\cropped\\\\neymar\\\\neymar13.png',\n",
       "  '.\\\\dataset\\\\cropped\\\\neymar\\\\neymar14.png',\n",
       "  '.\\\\dataset\\\\cropped\\\\neymar\\\\neymar15.png',\n",
       "  '.\\\\dataset\\\\cropped\\\\neymar\\\\neymar16.png',\n",
       "  '.\\\\dataset\\\\cropped\\\\neymar\\\\neymar17.png',\n",
       "  '.\\\\dataset\\\\cropped\\\\neymar\\\\neymar18.png',\n",
       "  '.\\\\dataset\\\\cropped\\\\neymar\\\\neymar19.png',\n",
       "  '.\\\\dataset\\\\cropped\\\\neymar\\\\neymar2.png',\n",
       "  '.\\\\dataset\\\\cropped\\\\neymar\\\\neymar20.png',\n",
       "  '.\\\\dataset\\\\cropped\\\\neymar\\\\neymar21.png',\n",
       "  '.\\\\dataset\\\\cropped\\\\neymar\\\\neymar22.png',\n",
       "  '.\\\\dataset\\\\cropped\\\\neymar\\\\neymar23.png',\n",
       "  '.\\\\dataset\\\\cropped\\\\neymar\\\\neymar24.png',\n",
       "  '.\\\\dataset\\\\cropped\\\\neymar\\\\neymar25.png',\n",
       "  '.\\\\dataset\\\\cropped\\\\neymar\\\\neymar26.png',\n",
       "  '.\\\\dataset\\\\cropped\\\\neymar\\\\neymar27.png',\n",
       "  '.\\\\dataset\\\\cropped\\\\neymar\\\\neymar3.png',\n",
       "  '.\\\\dataset\\\\cropped\\\\neymar\\\\neymar4.png',\n",
       "  '.\\\\dataset\\\\cropped\\\\neymar\\\\neymar5.png',\n",
       "  '.\\\\dataset\\\\cropped\\\\neymar\\\\neymar6.png',\n",
       "  '.\\\\dataset\\\\cropped\\\\neymar\\\\neymar7.png',\n",
       "  '.\\\\dataset\\\\cropped\\\\neymar\\\\neymar8.png',\n",
       "  '.\\\\dataset\\\\cropped\\\\neymar\\\\neymar9.png']}"
      ]
     },
     "execution_count": 32,
     "metadata": {},
     "output_type": "execute_result"
    }
   ],
   "source": [
    "#rebuilding celebrity file names dictionary because we manually deleted some\n",
    "cropped_celebrity_file_dict={}\n",
    "for img_dir in cropped_image_dirs:\n",
    "    celebrity=img_dir.split('\\\\')[-1]\n",
    "    # print(celebrity)\n",
    "    for img in os.scandir(img_dir):\n",
    "        cropped_celebrity_file_dict.setdefault(celebrity,[]).append(img.path)\n",
    "\n",
    "cropped_celebrity_file_dict"
   ]
  },
  {
   "cell_type": "code",
   "execution_count": 33,
   "metadata": {},
   "outputs": [],
   "source": [
    "import pywt\n",
    "import cv2\n",
    "import numpy as np\n",
    "\n",
    "\n",
    "def w2d(img,mode='haar',level=1):\n",
    "\n",
    "    imArray=img\n",
    "\n",
    "    imArray=cv2.cvtColor(imArray,cv2.COLOR_BGR2GRAY)\n",
    "    imArray=np.float32(imArray)\n",
    "    imArray/=255\n",
    "\n",
    "    coeff=pywt.wavedec2(imArray,mode,level=level)\n",
    "\n",
    "    coeff_H=list(coeff)\n",
    "    coeff_H[0]*=0\n",
    "\n",
    "    imArray_H= pywt.waverec2(coeff_H,mode)\n",
    "    imArray_H*=255\n",
    "    imArray_H=np.uint8(imArray_H)\n",
    "    \n",
    "    return imArray_H\n",
    "    "
   ]
  },
  {
   "cell_type": "code",
   "execution_count": 34,
   "metadata": {},
   "outputs": [
    {
     "ename": "error",
     "evalue": "OpenCV(4.8.0) D:\\a\\opencv-python\\opencv-python\\opencv\\modules\\imgproc\\src\\color.cpp:182: error: (-215:Assertion failed) !_src.empty() in function 'cv::cvtColor'\n",
     "output_type": "error",
     "traceback": [
      "\u001b[1;31m---------------------------------------------------------------------------\u001b[0m",
      "\u001b[1;31merror\u001b[0m                                     Traceback (most recent call last)",
      "Cell \u001b[1;32mIn[34], line 1\u001b[0m\n\u001b[1;32m----> 1\u001b[0m img\u001b[39m=\u001b[39mget_cropped_img_2_eyes(\u001b[39m'\u001b[39;49m\u001b[39m./dataset/lionel_messi/messiface1.jpg\u001b[39;49m\u001b[39m'\u001b[39;49m)\n\u001b[0;32m      2\u001b[0m im_har\u001b[39m=\u001b[39mw2d(img,\u001b[39m'\u001b[39m\u001b[39mdb1\u001b[39m\u001b[39m'\u001b[39m,\u001b[39m5\u001b[39m)\n\u001b[0;32m      3\u001b[0m plt\u001b[39m.\u001b[39mimshow(im_har,cmap\u001b[39m=\u001b[39m\u001b[39m'\u001b[39m\u001b[39mgray\u001b[39m\u001b[39m'\u001b[39m)\n",
      "Cell \u001b[1;32mIn[23], line 3\u001b[0m, in \u001b[0;36mget_cropped_img_2_eyes\u001b[1;34m(image_path)\u001b[0m\n\u001b[0;32m      1\u001b[0m \u001b[39mdef\u001b[39;00m \u001b[39mget_cropped_img_2_eyes\u001b[39m(image_path):\n\u001b[0;32m      2\u001b[0m     img\u001b[39m=\u001b[39mcv2\u001b[39m.\u001b[39mimread(image_path)\n\u001b[1;32m----> 3\u001b[0m     gray\u001b[39m=\u001b[39mcv2\u001b[39m.\u001b[39;49mcvtColor(img,cv2\u001b[39m.\u001b[39;49mCOLOR_BGR2GRAY)\n\u001b[0;32m      4\u001b[0m     faces\u001b[39m=\u001b[39mface_cascade\u001b[39m.\u001b[39mdetectMultiScale(gray,\u001b[39m1.3\u001b[39m,\u001b[39m5\u001b[39m)\n\u001b[0;32m      5\u001b[0m     \u001b[39mfor\u001b[39;00m (x,y,w,h) \u001b[39min\u001b[39;00m faces:\n",
      "\u001b[1;31merror\u001b[0m: OpenCV(4.8.0) D:\\a\\opencv-python\\opencv-python\\opencv\\modules\\imgproc\\src\\color.cpp:182: error: (-215:Assertion failed) !_src.empty() in function 'cv::cvtColor'\n"
     ]
    }
   ],
   "source": [
    "# img=get_cropped_img_2_eyes('./dataset/lionel_messi/messiface1.jpg')\n",
    "# im_har=w2d(img,'db1',5)\n",
    "# plt.imshow(im_har,cmap='gray')"
   ]
  },
  {
   "cell_type": "code",
   "execution_count": 35,
   "metadata": {},
   "outputs": [
    {
     "data": {
      "text/plain": [
       "{'cristiano_ronaldo': 0, 'lionel_messi': 1, 'neymar': 2}"
      ]
     },
     "execution_count": 35,
     "metadata": {},
     "output_type": "execute_result"
    }
   ],
   "source": [
    "class_dict={}\n",
    "count=0\n",
    "for celebrity_key in cropped_celebrity_file_dict.keys():\n",
    "    class_dict.setdefault(celebrity_key,[])\n",
    "    class_dict[celebrity_key]=count\n",
    "    count+=1\n",
    "class_dict"
   ]
  },
  {
   "cell_type": "code",
   "execution_count": 36,
   "metadata": {},
   "outputs": [],
   "source": [
    "X,y=[],[]\n",
    "\n",
    "for celebrity_name,training_files in cropped_celebrity_file_dict.items():\n",
    "    for training_image in training_files:\n",
    "        img=cv2.imread(training_image)\n",
    "        if img is None:\n",
    "            continue\n",
    "        scaled_raw_img=cv2.resize(img,(32,32))\n",
    "        img_har=w2d(img,'db1',5)\n",
    "        scaled_har_img=cv2.resize(img_har,(32,32))\n",
    "        combined_img=np.vstack((scaled_raw_img.reshape(32*32*3,1),scaled_har_img.reshape(32*32,1)))\n",
    "        X.append(combined_img)\n",
    "        y.append(celebrity_name)"
   ]
  },
  {
   "cell_type": "code",
   "execution_count": 37,
   "metadata": {},
   "outputs": [
    {
     "name": "stdout",
     "output_type": "stream",
     "text": [
      "81\n"
     ]
    }
   ],
   "source": [
    "print(len(X))"
   ]
  },
  {
   "cell_type": "code",
   "execution_count": 38,
   "metadata": {},
   "outputs": [
    {
     "data": {
      "text/plain": [
       "(81, 4096)"
      ]
     },
     "execution_count": 38,
     "metadata": {},
     "output_type": "execute_result"
    }
   ],
   "source": [
    "X=np.array(X).reshape(len(X),4096).astype(float)\n",
    "X.shape"
   ]
  },
  {
   "cell_type": "code",
   "execution_count": 39,
   "metadata": {},
   "outputs": [
    {
     "data": {
      "text/plain": [
       "array([60., 55., 56., ...,  2.,  8.,  2.])"
      ]
     },
     "execution_count": 39,
     "metadata": {},
     "output_type": "execute_result"
    }
   ],
   "source": [
    "X[0]"
   ]
  },
  {
   "cell_type": "code",
   "execution_count": 40,
   "metadata": {},
   "outputs": [],
   "source": [
    "from sklearn.svm import SVC\n",
    "from sklearn.preprocessing import StandardScaler\n",
    "from sklearn.model_selection import train_test_split\n",
    "from sklearn.pipeline import Pipeline\n",
    "from sklearn.metrics import classification_report"
   ]
  },
  {
   "cell_type": "code",
   "execution_count": 41,
   "metadata": {},
   "outputs": [
    {
     "data": {
      "text/plain": [
       "0.7142857142857143"
      ]
     },
     "execution_count": 41,
     "metadata": {},
     "output_type": "execute_result"
    }
   ],
   "source": [
    "X_train,X_test,y_train,y_test= train_test_split(X,y,random_state=0)\n",
    "\n",
    "pipe = Pipeline([('scaler', StandardScaler()),('svc',SVC(kernel='rbf',C=10))])\n",
    "pipe.fit(X_train,y_train)\n",
    "pipe.score(X_test,y_test)"
   ]
  },
  {
   "cell_type": "code",
   "execution_count": 42,
   "metadata": {},
   "outputs": [
    {
     "name": "stdout",
     "output_type": "stream",
     "text": [
      "                   precision    recall  f1-score   support\n",
      "\n",
      "cristiano_ronaldo       0.56      1.00      0.71         5\n",
      "     lionel_messi       0.75      0.75      0.75         8\n",
      "           neymar       1.00      0.50      0.67         8\n",
      "\n",
      "         accuracy                           0.71        21\n",
      "        macro avg       0.77      0.75      0.71        21\n",
      "     weighted avg       0.80      0.71      0.71        21\n",
      "\n"
     ]
    }
   ],
   "source": [
    "len(X_test)\n",
    "print(classification_report(y_test,pipe.predict(X_test)))"
   ]
  },
  {
   "cell_type": "code",
   "execution_count": 45,
   "metadata": {},
   "outputs": [],
   "source": [
    "from sklearn.model_selection import GridSearchCV\n",
    "from sklearn import svm\n",
    "from sklearn.ensemble import RandomForestClassifier\n",
    "from sklearn.linear_model import LogisticRegression\n",
    "from sklearn.pipeline import make_pipeline"
   ]
  },
  {
   "cell_type": "code",
   "execution_count": 59,
   "metadata": {},
   "outputs": [],
   "source": [
    "models={\n",
    "    'svm':{\n",
    "        'model':svm.SVC(gamma='auto',probability=True),\n",
    "        'params':{\n",
    "            'svc__kernel':['rbf','linear']\n",
    "        }\n",
    "    },\n",
    "    'random_forest':{\n",
    "        'model':RandomForestClassifier(),\n",
    "        'params':{\n",
    "            'randomforestclassifier__n_estimators':[1,5,10]\n",
    "        }\n",
    "    },\n",
    "    'logistic_regression':{\n",
    "    'model':LogisticRegression(),\n",
    "    'params':{\n",
    "        'logisticregression__C': [0.1, 1.0, 10.0],\n",
    "        }\n",
    "    }\n",
    "}"
   ]
  },
  {
   "cell_type": "code",
   "execution_count": 62,
   "metadata": {},
   "outputs": [],
   "source": [
    "scores=[]\n",
    "best_estimators={}\n",
    "import pandas as pd\n",
    "\n",
    "for algo,mp in models.items():\n",
    "    pipe =make_pipeline(StandardScaler(),mp['model'])\n",
    "    clf=GridSearchCV(pipe,mp['params'],cv=5,return_train_score=False)\n",
    "    clf.fit(X_train, y_train)\n",
    "    scores.append({\n",
    "        'model':algo,\n",
    "        'best_score':clf.best_score_,\n",
    "        'best_params':clf.best_params_\n",
    "    })\n",
    "    best_estimators.setdefault(algo,[])\n",
    "    best_estimators[algo]=clf.best_estimator_\n",
    "    df=pd.DataFrame(scores,columns=['model','best_score','best_params'])\n",
    "  "
   ]
  },
  {
   "cell_type": "code",
   "execution_count": 63,
   "metadata": {},
   "outputs": [
    {
     "data": {
      "text/html": [
       "<div>\n",
       "<style scoped>\n",
       "    .dataframe tbody tr th:only-of-type {\n",
       "        vertical-align: middle;\n",
       "    }\n",
       "\n",
       "    .dataframe tbody tr th {\n",
       "        vertical-align: top;\n",
       "    }\n",
       "\n",
       "    .dataframe thead th {\n",
       "        text-align: right;\n",
       "    }\n",
       "</style>\n",
       "<table border=\"1\" class=\"dataframe\">\n",
       "  <thead>\n",
       "    <tr style=\"text-align: right;\">\n",
       "      <th></th>\n",
       "      <th>model</th>\n",
       "      <th>best_score</th>\n",
       "      <th>best_params</th>\n",
       "    </tr>\n",
       "  </thead>\n",
       "  <tbody>\n",
       "    <tr>\n",
       "      <th>0</th>\n",
       "      <td>svm</td>\n",
       "      <td>0.733333</td>\n",
       "      <td>{'svc__kernel': 'linear'}</td>\n",
       "    </tr>\n",
       "    <tr>\n",
       "      <th>1</th>\n",
       "      <td>random_forest</td>\n",
       "      <td>0.616667</td>\n",
       "      <td>{'randomforestclassifier__n_estimators': 10}</td>\n",
       "    </tr>\n",
       "    <tr>\n",
       "      <th>2</th>\n",
       "      <td>logistic_regression</td>\n",
       "      <td>0.750000</td>\n",
       "      <td>{'logisticregression__C': 0.1}</td>\n",
       "    </tr>\n",
       "  </tbody>\n",
       "</table>\n",
       "</div>"
      ],
      "text/plain": [
       "                 model  best_score  \\\n",
       "0                  svm    0.733333   \n",
       "1        random_forest    0.616667   \n",
       "2  logistic_regression    0.750000   \n",
       "\n",
       "                                    best_params  \n",
       "0                     {'svc__kernel': 'linear'}  \n",
       "1  {'randomforestclassifier__n_estimators': 10}  \n",
       "2                {'logisticregression__C': 0.1}  "
      ]
     },
     "execution_count": 63,
     "metadata": {},
     "output_type": "execute_result"
    }
   ],
   "source": [
    "df"
   ]
  },
  {
   "cell_type": "code",
   "execution_count": 69,
   "metadata": {},
   "outputs": [
    {
     "data": {
      "text/plain": [
       "{'svm': Pipeline(steps=[('standardscaler', StandardScaler()),\n",
       "                 ('svc', SVC(gamma='auto', kernel='linear', probability=True))]),\n",
       " 'random_forest': Pipeline(steps=[('standardscaler', StandardScaler()),\n",
       "                 ('randomforestclassifier',\n",
       "                  RandomForestClassifier(n_estimators=10))]),\n",
       " 'logistic_regression': Pipeline(steps=[('standardscaler', StandardScaler()),\n",
       "                 ('logisticregression', LogisticRegression(C=0.1))])}"
      ]
     },
     "execution_count": 69,
     "metadata": {},
     "output_type": "execute_result"
    }
   ],
   "source": [
    "best_estimators"
   ]
  },
  {
   "cell_type": "code",
   "execution_count": 76,
   "metadata": {},
   "outputs": [
    {
     "data": {
      "text/html": [
       "<style>#sk-container-id-1 {color: black;}#sk-container-id-1 pre{padding: 0;}#sk-container-id-1 div.sk-toggleable {background-color: white;}#sk-container-id-1 label.sk-toggleable__label {cursor: pointer;display: block;width: 100%;margin-bottom: 0;padding: 0.3em;box-sizing: border-box;text-align: center;}#sk-container-id-1 label.sk-toggleable__label-arrow:before {content: \"▸\";float: left;margin-right: 0.25em;color: #696969;}#sk-container-id-1 label.sk-toggleable__label-arrow:hover:before {color: black;}#sk-container-id-1 div.sk-estimator:hover label.sk-toggleable__label-arrow:before {color: black;}#sk-container-id-1 div.sk-toggleable__content {max-height: 0;max-width: 0;overflow: hidden;text-align: left;background-color: #f0f8ff;}#sk-container-id-1 div.sk-toggleable__content pre {margin: 0.2em;color: black;border-radius: 0.25em;background-color: #f0f8ff;}#sk-container-id-1 input.sk-toggleable__control:checked~div.sk-toggleable__content {max-height: 200px;max-width: 100%;overflow: auto;}#sk-container-id-1 input.sk-toggleable__control:checked~label.sk-toggleable__label-arrow:before {content: \"▾\";}#sk-container-id-1 div.sk-estimator input.sk-toggleable__control:checked~label.sk-toggleable__label {background-color: #d4ebff;}#sk-container-id-1 div.sk-label input.sk-toggleable__control:checked~label.sk-toggleable__label {background-color: #d4ebff;}#sk-container-id-1 input.sk-hidden--visually {border: 0;clip: rect(1px 1px 1px 1px);clip: rect(1px, 1px, 1px, 1px);height: 1px;margin: -1px;overflow: hidden;padding: 0;position: absolute;width: 1px;}#sk-container-id-1 div.sk-estimator {font-family: monospace;background-color: #f0f8ff;border: 1px dotted black;border-radius: 0.25em;box-sizing: border-box;margin-bottom: 0.5em;}#sk-container-id-1 div.sk-estimator:hover {background-color: #d4ebff;}#sk-container-id-1 div.sk-parallel-item::after {content: \"\";width: 100%;border-bottom: 1px solid gray;flex-grow: 1;}#sk-container-id-1 div.sk-label:hover label.sk-toggleable__label {background-color: #d4ebff;}#sk-container-id-1 div.sk-serial::before {content: \"\";position: absolute;border-left: 1px solid gray;box-sizing: border-box;top: 0;bottom: 0;left: 50%;z-index: 0;}#sk-container-id-1 div.sk-serial {display: flex;flex-direction: column;align-items: center;background-color: white;padding-right: 0.2em;padding-left: 0.2em;position: relative;}#sk-container-id-1 div.sk-item {position: relative;z-index: 1;}#sk-container-id-1 div.sk-parallel {display: flex;align-items: stretch;justify-content: center;background-color: white;position: relative;}#sk-container-id-1 div.sk-item::before, #sk-container-id-1 div.sk-parallel-item::before {content: \"\";position: absolute;border-left: 1px solid gray;box-sizing: border-box;top: 0;bottom: 0;left: 50%;z-index: -1;}#sk-container-id-1 div.sk-parallel-item {display: flex;flex-direction: column;z-index: 1;position: relative;background-color: white;}#sk-container-id-1 div.sk-parallel-item:first-child::after {align-self: flex-end;width: 50%;}#sk-container-id-1 div.sk-parallel-item:last-child::after {align-self: flex-start;width: 50%;}#sk-container-id-1 div.sk-parallel-item:only-child::after {width: 0;}#sk-container-id-1 div.sk-dashed-wrapped {border: 1px dashed gray;margin: 0 0.4em 0.5em 0.4em;box-sizing: border-box;padding-bottom: 0.4em;background-color: white;}#sk-container-id-1 div.sk-label label {font-family: monospace;font-weight: bold;display: inline-block;line-height: 1.2em;}#sk-container-id-1 div.sk-label-container {text-align: center;}#sk-container-id-1 div.sk-container {/* jupyter's `normalize.less` sets `[hidden] { display: none; }` but bootstrap.min.css set `[hidden] { display: none !important; }` so we also need the `!important` here to be able to override the default hidden behavior on the sphinx rendered scikit-learn.org. See: https://github.com/scikit-learn/scikit-learn/issues/21755 */display: inline-block !important;position: relative;}#sk-container-id-1 div.sk-text-repr-fallback {display: none;}</style><div id=\"sk-container-id-1\" class=\"sk-top-container\"><div class=\"sk-text-repr-fallback\"><pre>Pipeline(steps=[(&#x27;standardscaler&#x27;, StandardScaler()),\n",
       "                (&#x27;svc&#x27;, SVC(gamma=&#x27;auto&#x27;, kernel=&#x27;linear&#x27;, probability=True))])</pre><b>In a Jupyter environment, please rerun this cell to show the HTML representation or trust the notebook. <br />On GitHub, the HTML representation is unable to render, please try loading this page with nbviewer.org.</b></div><div class=\"sk-container\" hidden><div class=\"sk-item sk-dashed-wrapped\"><div class=\"sk-label-container\"><div class=\"sk-label sk-toggleable\"><input class=\"sk-toggleable__control sk-hidden--visually\" id=\"sk-estimator-id-1\" type=\"checkbox\" ><label for=\"sk-estimator-id-1\" class=\"sk-toggleable__label sk-toggleable__label-arrow\">Pipeline</label><div class=\"sk-toggleable__content\"><pre>Pipeline(steps=[(&#x27;standardscaler&#x27;, StandardScaler()),\n",
       "                (&#x27;svc&#x27;, SVC(gamma=&#x27;auto&#x27;, kernel=&#x27;linear&#x27;, probability=True))])</pre></div></div></div><div class=\"sk-serial\"><div class=\"sk-item\"><div class=\"sk-estimator sk-toggleable\"><input class=\"sk-toggleable__control sk-hidden--visually\" id=\"sk-estimator-id-2\" type=\"checkbox\" ><label for=\"sk-estimator-id-2\" class=\"sk-toggleable__label sk-toggleable__label-arrow\">StandardScaler</label><div class=\"sk-toggleable__content\"><pre>StandardScaler()</pre></div></div></div><div class=\"sk-item\"><div class=\"sk-estimator sk-toggleable\"><input class=\"sk-toggleable__control sk-hidden--visually\" id=\"sk-estimator-id-3\" type=\"checkbox\" ><label for=\"sk-estimator-id-3\" class=\"sk-toggleable__label sk-toggleable__label-arrow\">SVC</label><div class=\"sk-toggleable__content\"><pre>SVC(gamma=&#x27;auto&#x27;, kernel=&#x27;linear&#x27;, probability=True)</pre></div></div></div></div></div></div></div>"
      ],
      "text/plain": [
       "Pipeline(steps=[('standardscaler', StandardScaler()),\n",
       "                ('svc', SVC(gamma='auto', kernel='linear', probability=True))])"
      ]
     },
     "execution_count": 76,
     "metadata": {},
     "output_type": "execute_result"
    }
   ],
   "source": [
    "best_estimators['svm']"
   ]
  },
  {
   "cell_type": "code",
   "execution_count": 84,
   "metadata": {},
   "outputs": [],
   "source": [
    "best_estimators['svm'].score(X_test,y_test)"
   ]
  },
  {
   "cell_type": "code",
   "execution_count": 79,
   "metadata": {},
   "outputs": [
    {
     "data": {
      "text/html": [
       "<style>#sk-container-id-3 {color: black;}#sk-container-id-3 pre{padding: 0;}#sk-container-id-3 div.sk-toggleable {background-color: white;}#sk-container-id-3 label.sk-toggleable__label {cursor: pointer;display: block;width: 100%;margin-bottom: 0;padding: 0.3em;box-sizing: border-box;text-align: center;}#sk-container-id-3 label.sk-toggleable__label-arrow:before {content: \"▸\";float: left;margin-right: 0.25em;color: #696969;}#sk-container-id-3 label.sk-toggleable__label-arrow:hover:before {color: black;}#sk-container-id-3 div.sk-estimator:hover label.sk-toggleable__label-arrow:before {color: black;}#sk-container-id-3 div.sk-toggleable__content {max-height: 0;max-width: 0;overflow: hidden;text-align: left;background-color: #f0f8ff;}#sk-container-id-3 div.sk-toggleable__content pre {margin: 0.2em;color: black;border-radius: 0.25em;background-color: #f0f8ff;}#sk-container-id-3 input.sk-toggleable__control:checked~div.sk-toggleable__content {max-height: 200px;max-width: 100%;overflow: auto;}#sk-container-id-3 input.sk-toggleable__control:checked~label.sk-toggleable__label-arrow:before {content: \"▾\";}#sk-container-id-3 div.sk-estimator input.sk-toggleable__control:checked~label.sk-toggleable__label {background-color: #d4ebff;}#sk-container-id-3 div.sk-label input.sk-toggleable__control:checked~label.sk-toggleable__label {background-color: #d4ebff;}#sk-container-id-3 input.sk-hidden--visually {border: 0;clip: rect(1px 1px 1px 1px);clip: rect(1px, 1px, 1px, 1px);height: 1px;margin: -1px;overflow: hidden;padding: 0;position: absolute;width: 1px;}#sk-container-id-3 div.sk-estimator {font-family: monospace;background-color: #f0f8ff;border: 1px dotted black;border-radius: 0.25em;box-sizing: border-box;margin-bottom: 0.5em;}#sk-container-id-3 div.sk-estimator:hover {background-color: #d4ebff;}#sk-container-id-3 div.sk-parallel-item::after {content: \"\";width: 100%;border-bottom: 1px solid gray;flex-grow: 1;}#sk-container-id-3 div.sk-label:hover label.sk-toggleable__label {background-color: #d4ebff;}#sk-container-id-3 div.sk-serial::before {content: \"\";position: absolute;border-left: 1px solid gray;box-sizing: border-box;top: 0;bottom: 0;left: 50%;z-index: 0;}#sk-container-id-3 div.sk-serial {display: flex;flex-direction: column;align-items: center;background-color: white;padding-right: 0.2em;padding-left: 0.2em;position: relative;}#sk-container-id-3 div.sk-item {position: relative;z-index: 1;}#sk-container-id-3 div.sk-parallel {display: flex;align-items: stretch;justify-content: center;background-color: white;position: relative;}#sk-container-id-3 div.sk-item::before, #sk-container-id-3 div.sk-parallel-item::before {content: \"\";position: absolute;border-left: 1px solid gray;box-sizing: border-box;top: 0;bottom: 0;left: 50%;z-index: -1;}#sk-container-id-3 div.sk-parallel-item {display: flex;flex-direction: column;z-index: 1;position: relative;background-color: white;}#sk-container-id-3 div.sk-parallel-item:first-child::after {align-self: flex-end;width: 50%;}#sk-container-id-3 div.sk-parallel-item:last-child::after {align-self: flex-start;width: 50%;}#sk-container-id-3 div.sk-parallel-item:only-child::after {width: 0;}#sk-container-id-3 div.sk-dashed-wrapped {border: 1px dashed gray;margin: 0 0.4em 0.5em 0.4em;box-sizing: border-box;padding-bottom: 0.4em;background-color: white;}#sk-container-id-3 div.sk-label label {font-family: monospace;font-weight: bold;display: inline-block;line-height: 1.2em;}#sk-container-id-3 div.sk-label-container {text-align: center;}#sk-container-id-3 div.sk-container {/* jupyter's `normalize.less` sets `[hidden] { display: none; }` but bootstrap.min.css set `[hidden] { display: none !important; }` so we also need the `!important` here to be able to override the default hidden behavior on the sphinx rendered scikit-learn.org. See: https://github.com/scikit-learn/scikit-learn/issues/21755 */display: inline-block !important;position: relative;}#sk-container-id-3 div.sk-text-repr-fallback {display: none;}</style><div id=\"sk-container-id-3\" class=\"sk-top-container\"><div class=\"sk-text-repr-fallback\"><pre>Pipeline(steps=[(&#x27;standardscaler&#x27;, StandardScaler()),\n",
       "                (&#x27;logisticregression&#x27;, LogisticRegression(C=0.1))])</pre><b>In a Jupyter environment, please rerun this cell to show the HTML representation or trust the notebook. <br />On GitHub, the HTML representation is unable to render, please try loading this page with nbviewer.org.</b></div><div class=\"sk-container\" hidden><div class=\"sk-item sk-dashed-wrapped\"><div class=\"sk-label-container\"><div class=\"sk-label sk-toggleable\"><input class=\"sk-toggleable__control sk-hidden--visually\" id=\"sk-estimator-id-7\" type=\"checkbox\" ><label for=\"sk-estimator-id-7\" class=\"sk-toggleable__label sk-toggleable__label-arrow\">Pipeline</label><div class=\"sk-toggleable__content\"><pre>Pipeline(steps=[(&#x27;standardscaler&#x27;, StandardScaler()),\n",
       "                (&#x27;logisticregression&#x27;, LogisticRegression(C=0.1))])</pre></div></div></div><div class=\"sk-serial\"><div class=\"sk-item\"><div class=\"sk-estimator sk-toggleable\"><input class=\"sk-toggleable__control sk-hidden--visually\" id=\"sk-estimator-id-8\" type=\"checkbox\" ><label for=\"sk-estimator-id-8\" class=\"sk-toggleable__label sk-toggleable__label-arrow\">StandardScaler</label><div class=\"sk-toggleable__content\"><pre>StandardScaler()</pre></div></div></div><div class=\"sk-item\"><div class=\"sk-estimator sk-toggleable\"><input class=\"sk-toggleable__control sk-hidden--visually\" id=\"sk-estimator-id-9\" type=\"checkbox\" ><label for=\"sk-estimator-id-9\" class=\"sk-toggleable__label sk-toggleable__label-arrow\">LogisticRegression</label><div class=\"sk-toggleable__content\"><pre>LogisticRegression(C=0.1)</pre></div></div></div></div></div></div></div>"
      ],
      "text/plain": [
       "Pipeline(steps=[('standardscaler', StandardScaler()),\n",
       "                ('logisticregression', LogisticRegression(C=0.1))])"
      ]
     },
     "execution_count": 79,
     "metadata": {},
     "output_type": "execute_result"
    }
   ],
   "source": [
    "best_estimators['logistic_regression']"
   ]
  },
  {
   "cell_type": "code",
   "execution_count": 80,
   "metadata": {},
   "outputs": [
    {
     "data": {
      "text/plain": [
       "0.8095238095238095"
      ]
     },
     "execution_count": 80,
     "metadata": {},
     "output_type": "execute_result"
    }
   ],
   "source": [
    "best_estimators['logistic_regression'].score(X_test,y_test)"
   ]
  },
  {
   "cell_type": "code",
   "execution_count": 81,
   "metadata": {},
   "outputs": [
    {
     "data": {
      "text/plain": [
       "0.5714285714285714"
      ]
     },
     "execution_count": 81,
     "metadata": {},
     "output_type": "execute_result"
    }
   ],
   "source": [
    "best_estimators['random_forest'].score(X_test,y_test)"
   ]
  },
  {
   "cell_type": "code",
   "execution_count": 93,
   "metadata": {},
   "outputs": [
    {
     "data": {
      "text/plain": [
       "(21, 4096)"
      ]
     },
     "execution_count": 93,
     "metadata": {},
     "output_type": "execute_result"
    }
   ],
   "source": [
    "best_clf=best_estimators['svm']\n",
    "X_test.shape"
   ]
  },
  {
   "cell_type": "code",
   "execution_count": 91,
   "metadata": {},
   "outputs": [
    {
     "data": {
      "text/plain": [
       "array([[5, 0, 0],\n",
       "       [2, 6, 0],\n",
       "       [1, 1, 6]], dtype=int64)"
      ]
     },
     "execution_count": 91,
     "metadata": {},
     "output_type": "execute_result"
    }
   ],
   "source": [
    "from sklearn.metrics import confusion_matrix\n",
    "cm=confusion_matrix(y_test,best_clf.predict(X_test))\n",
    "cm\n"
   ]
  },
  {
   "cell_type": "code",
   "execution_count": 92,
   "metadata": {},
   "outputs": [
    {
     "data": {
      "text/plain": [
       "Text(95.72222222222221, 0.5, 'Truth')"
      ]
     },
     "execution_count": 92,
     "metadata": {},
     "output_type": "execute_result"
    },
    {
     "data": {
      "image/png": "[encoded data removed]",
      "text/plain": [
       "<Figure size 1000x700 with 2 Axes>"
      ]
     },
     "metadata": {},
     "output_type": "display_data"
    }
   ],
   "source": [
    "import seaborn as sn\n",
    "plt.figure(figsize=(10,7))\n",
    "sn.heatmap(cm,annot=True)\n",
    "plt.xlabel(\"Predicted\")\n",
    "plt.ylabel(\"Truth\")"
   ]
  },
  {
   "cell_type": "code",
   "execution_count": 94,
   "metadata": {},
   "outputs": [
    {
     "data": {
      "text/plain": [
       "['saved_model.pkl']"
      ]
     },
     "execution_count": 94,
     "metadata": {},
     "output_type": "execute_result"
    }
   ],
   "source": [
    "import joblib\n",
    "joblib.dump(best_clf,'saved_model.pkl')"
   ]
  },
  {
   "cell_type": "code",
   "execution_count": null,
   "metadata": {},
   "outputs": [],
   "source": [
    "import json \n",
    "with open('class_dictionary.json',\"w\") as f:\n",
    "    f.write(json.dumps(class_dict))"
   ]
  }
 ],
 "metadata": {
  "kernelspec": {
   "display_name": "Python 3",
   "language": "python",
   "name": "python3"
  },
  "language_info": {
   "codemirror_mode": {
    "name": "ipython",
    "version": 3
   },
   "file_extension": ".py",
   "mimetype": "text/x-python",
   "name": "python",
   "nbconvert_exporter": "python",
   "pygments_lexer": "ipython3",
   "version": "3.11.4"
  },
  "orig_nbformat": 4
 },
 "nbformat": 4,
 "nbformat_minor": 2
}
